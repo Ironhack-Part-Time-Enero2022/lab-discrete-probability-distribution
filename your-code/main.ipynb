{
 "cells": [
  {
   "cell_type": "markdown",
   "metadata": {},
   "source": [
    "# Before your start:\n",
    "\n",
    "    Read the README.md file\n",
    "    Comment as much as you can and use the resources (README.md file)\n",
    "    Happy learning!\n",
    "\n",
    "*Notes:* \n",
    "\n",
    "- Solve the questions with python.\n",
    "\n",
    "- Round the final answer to three decimal places."
   ]
  },
  {
   "cell_type": "markdown",
   "metadata": {},
   "source": [
    "## Bernoulli's Distribution\n",
    "\n",
    "In a basket containing 100 fruits, there are 60 apples and 40 oranges. \n",
    "\n",
    "A fruit is picked randomly from the basket. \n",
    "\n",
    "1. **What is the probability that the fruit is apple?**\n",
    "1. **What is the probability that it is an orange?**"
   ]
  },
  {
   "cell_type": "code",
   "execution_count": 1,
   "metadata": {},
   "outputs": [],
   "source": [
    "from scipy.stats import bernoulli\n",
    "from scipy.stats import binom\n",
    "from scipy.stats import poisson\n",
    "import seaborn as sns\n",
    "import matplotlib.pyplot as plt\n",
    "import numpy as np"
   ]
  },
  {
   "cell_type": "code",
   "execution_count": 2,
   "metadata": {},
   "outputs": [
    {
     "name": "stdout",
     "output_type": "stream",
     "text": [
      "After picking one fruit, you picked an apple :)\n"
     ]
    }
   ],
   "source": [
    "\"\"\"\n",
    "Calculate:\n",
    "p = probability that the fruit is an apple \n",
    "q = probability that the fruit is an orange\n",
    "\"\"\"\n",
    "\n",
    "# your code here\n",
    "#no bernoulli\n",
    "\n",
    "p_apple = 0.6\n",
    "p_orange = 1 - 0.6\n",
    "\n",
    "#using bernoulli\n",
    "\n",
    "my_bernoulli = bernoulli(p_apple)\n",
    "\n",
    "one_fruit = my_bernoulli.rvs(size = 1)\n",
    "\n",
    "if one_fruit == 1:\n",
    "    print('After picking one fruit, you picked an apple :)')\n",
    "else:\n",
    "    print('Well, I hope you like oranges')"
   ]
  },
  {
   "cell_type": "markdown",
   "metadata": {},
   "source": [
    "Now we take a random sample of 20 fruits from the basket. After each fruit is taken, a new fruit of the same type is replaced in the basket. Therefore, every time we are taking 1 fruit from 100 fruits. \n",
    "\n",
    "1. **What is the probability that the first 5 fruits are all apples?**\n",
    "\n",
    "1. **What is the probability that the first 5 fruits are all apples and the next 15 fruits are all oranges?**\n",
    "\n",
    "You can include the `p` and `q` probabilities you previous calculated in your solution."
   ]
  },
  {
   "cell_type": "code",
   "execution_count": 3,
   "metadata": {},
   "outputs": [
    {
     "name": "stdout",
     "output_type": "stream",
     "text": [
      "The probability the first one is an apple is 0.6\n",
      "The probability that the first 5 fruits are all apples is 0.07775999999999998\n",
      "Remember the probability to get an orange is of 0.4\n",
      "1.073741824000001e-06 will then be multiplied by 0.07775999999999998\n",
      "Therefore, the probability that the first 5 fruits are all apples and the next 15 fruits are all oranges is of \n",
      "                                                  8.349416423424006e-08\n"
     ]
    }
   ],
   "source": [
    "#probability the first one is an apple\n",
    "\n",
    "print(f'The probability the first one is an apple is {p_apple}')\n",
    "\n",
    "#therefore we want that event to happen 5 times. since each fruit is replaced the probability repeats\n",
    "first_five = p_apple**5\n",
    "print(f'The probability that the first 5 fruits are all apples is {first_five}')\n",
    "\n",
    "#now, we take that, and we want to use the 15fruits oranges after. \n",
    "print(f'Remember the probability to get an orange is of {p_orange}')\n",
    "      \n",
    "fifteen = p_orange**15\n",
    "print(f'{fifteen} will then be multiplied by {first_five}')\n",
    "      \n",
    "print(f'''Therefore, the probability that the first 5 fruits are all apples and the next 15 fruits are all oranges is of \n",
    "                                                  {first_five * fifteen}''')"
   ]
  },
  {
   "cell_type": "markdown",
   "metadata": {},
   "source": [
    "## Binomial Distribution\n",
    "\n",
    "Similar to the above problem, this time again we randomly sample 20 fruits.\n",
    "\n",
    "**What is the probability that this time the sample contains 5 apples and 15 oranges?**\n",
    "\n",
    "Please note that this time the order of the fruits being picked does not matter."
   ]
  },
  {
   "cell_type": "code",
   "execution_count": 4,
   "metadata": {},
   "outputs": [
    {
     "name": "stdout",
     "output_type": "stream",
     "text": [
      "Let´s remember our probabilities\n",
      "        Apple = 0.6\n",
      "        Orange = 0.4\n",
      "The probability of getting 5 apples out of the 20 try is 0.0012944935222876583\n",
      "The probability of getting 15 oranges out of the 20 try is 0.0012944935222876583\n"
     ]
    }
   ],
   "source": [
    "# your code here\n",
    "\n",
    "print(f'''Let´s remember our probabilities\n",
    "        Apple = {p_apple}\n",
    "        Orange = {p_orange}''')\n",
    "\n",
    "prob_apples = binom.pmf(k = 5,n=20,p=p_apple)\n",
    "print(f'The probability of getting 5 apples out of the 20 try is {prob_apples}')\n",
    "\n",
    "prob_oranges = binom.pmf(k = 15,n=20,p=p_orange)\n",
    "print(f'The probability of getting 15 oranges out of the 20 try is {prob_oranges}')"
   ]
  },
  {
   "cell_type": "markdown",
   "metadata": {},
   "source": [
    "In the lesson we also discussed CDF (cumulative distribution function). In the context of the above problem, **what is the probability that less than 5 fruits picked are apples?**\n",
    "\n",
    "Write the formula and calculate the probability below."
   ]
  },
  {
   "cell_type": "code",
   "execution_count": 5,
   "metadata": {},
   "outputs": [
    {
     "name": "stdout",
     "output_type": "stream",
     "text": [
      "The probability that less than 5 fruits picked are apples is 0.00031703112116863004\n"
     ]
    }
   ],
   "source": [
    "cum_apple = binom.cdf(k = 4, n = 20, p = p_apple)\n",
    "print(f'The probability that less than 5 fruits picked are apples is {cum_apple}')"
   ]
  },
  {
   "cell_type": "markdown",
   "metadata": {},
   "source": [
    "**Plot the PDF (probability distributiom function) for the above binomial distribution.**\n",
    "\n",
    "*Hint: The range of x in a binomial distribution is from `0` to `n`.*"
   ]
  },
  {
   "cell_type": "code",
   "execution_count": 6,
   "metadata": {},
   "outputs": [
    {
     "data": {
      "image/png": "[encoded data removed]",
      "text/plain": [
       "<Figure size 432x288 with 1 Axes>"
      ]
     },
     "metadata": {
      "needs_background": "light"
     },
     "output_type": "display_data"
    }
   ],
   "source": [
    "# your code here\n",
    "N = 20\n",
    "apples = np.arange(1,6)\n",
    "my_binomial = binom(N, p_apple)\n",
    "probs_apple = my_binomial.pmf(apples)\n",
    "\n",
    "plt.plot(apples, probs_apple,'o')\n",
    "plt.vlines(apples, 0, probs_apple, colors='black', lw=5, alpha=0.2)\n",
    "plt.xlabel(\"Apples picked\")\n",
    "plt.ylabel(\"Probability\")\n",
    "plt.title('Probability of picking 1-5 apples');"
   ]
  },
  {
   "cell_type": "code",
   "execution_count": 7,
   "metadata": {},
   "outputs": [
    {
     "data": {
      "image/png": "[encoded data removed]",
      "text/plain": [
       "<Figure size 432x288 with 1 Axes>"
      ]
     },
     "metadata": {
      "needs_background": "light"
     },
     "output_type": "display_data"
    }
   ],
   "source": [
    "oranges = np.arange(1,16)\n",
    "my_binomial = binom(N, p_orange)\n",
    "probs_orange = my_binomial.pmf(oranges)\n",
    "probs_orange\n",
    "\n",
    "plt.plot(oranges, probs_orange,'o')\n",
    "plt.vlines(oranges, 0, probs_orange, colors='orange', lw=5, alpha=0.2)\n",
    "plt.xlabel(\"Oranges picked\")\n",
    "plt.ylabel(\"Probability\")\n",
    "plt.title('Probability of picking 15 oranges');"
   ]
  },
  {
   "cell_type": "markdown",
   "metadata": {},
   "source": [
    "## Poisson Distribution\n",
    "\n",
    "In this challenge you are required to use the Math library in python to solve the problems.\n",
    "\n",
    "In the UEFA champions league tournament, the average number of goals scored in a match is 2.3. \n",
    "\n",
    "**What is the probability that the number of goals scored in a match is 5?**\n",
    "\n",
    "*Hint: Use the exp() in the math library*\n",
    "\n",
    "And to calculate the factorial, you can use the following code:\n",
    "\n",
    "```python\n",
    "import math\n",
    "math.factorial(n) # n is the number you want to find the factorial of\n",
    "```"
   ]
  },
  {
   "cell_type": "code",
   "execution_count": 8,
   "metadata": {},
   "outputs": [],
   "source": [
    "import math\n",
    "#math.factorial(n) # n is the number you want to find the factorial of"
   ]
  },
  {
   "cell_type": "code",
   "execution_count": 9,
   "metadata": {},
   "outputs": [
    {
     "data": {
      "text/plain": [
       "0.053775025581946814"
      ]
     },
     "execution_count": 9,
     "metadata": {},
     "output_type": "execute_result"
    }
   ],
   "source": [
    "#we define lambda\n",
    "\n",
    "goals = 2.3\n",
    "\n",
    "#create our poisson\n",
    "\n",
    "my_poisson = poisson(mu=goals)\n",
    "\n",
    "five_goals = my_poisson.pmf(5)\n",
    "five_goals"
   ]
  },
  {
   "cell_type": "markdown",
   "metadata": {},
   "source": [
    "**Draw a poisson probability distribution plot for the number of goals to be between 0 to 10.**"
   ]
  },
  {
   "cell_type": "code",
   "execution_count": 10,
   "metadata": {},
   "outputs": [
    {
     "data": {
      "image/png": "[encoded data removed]",
      "text/plain": [
       "<Figure size 432x288 with 1 Axes>"
      ]
     },
     "metadata": {
      "needs_background": "light"
     },
     "output_type": "display_data"
    }
   ],
   "source": [
    "# your code here\n",
    "\n",
    "\n",
    "goals_plot = np.arange(0,11)\n",
    "probs = my_poisson.pmf(goals_plot)\n",
    "\n",
    "# Please label the axes and give a title to the plot \n",
    "plt.plot(goals_plot, probs, 'bo')\n",
    "plt.vlines(goals_plot, 0, probs, colors='b', lw=5, alpha=0.5)\n",
    "plt.xlabel(\"Goals per match\")\n",
    "plt.ylabel(\"Probability\")\n",
    "plt.title('Probability of total goals per UEFA Champions League match');"
   ]
  }
 ],
 "metadata": {
  "kernelspec": {
   "display_name": "Python 3 (ipykernel)",
   "language": "python",
   "name": "python3"
  },
  "language_info": {
   "codemirror_mode": {
    "name": "ipython",
    "version": 3
   },
   "file_extension": ".py",
   "mimetype": "text/x-python",
   "name": "python",
   "nbconvert_exporter": "python",
   "pygments_lexer": "ipython3",
   "version": "3.9.7"
  }
 },
 "nbformat": 4,
 "nbformat_minor": 2
}
