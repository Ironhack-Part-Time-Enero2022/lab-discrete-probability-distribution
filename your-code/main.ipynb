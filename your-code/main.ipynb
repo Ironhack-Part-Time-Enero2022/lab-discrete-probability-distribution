{
  "cells": [
    {
      "cell_type": "markdown",
      "metadata": {
        "id": "njk0lR4f3U_5"
      },
      "source": [
        "# Before your start:\n",
        "\n",
        "    Read the README.md file\n",
        "    Comment as much as you can and use the resources (README.md file)\n",
        "    Happy learning!\n",
        "\n",
        "*Notes:* \n",
        "\n",
        "- Solve the questions with python.\n",
        "\n",
        "- Round the final answer to three decimal places."
      ]
    },
    {
      "cell_type": "markdown",
      "metadata": {
        "id": "zzftdfkZ3VAA"
      },
      "source": [
        "## Bernoulli's Distribution\n",
        "\n",
        "In a basket containing 100 fruits, there are 60 apples and 40 oranges. \n",
        "\n",
        "A fruit is picked randomly from the basket. \n",
        "\n",
        "1. **What is the probability that the fruit is apple?**\n",
        "1. **What is the probability that it is an orange?**"
      ]
    },
    {
      "cell_type": "code",
      "source": [
        "import matplotlib.pyplot as plt\n",
        "import numpy as np\n",
        "from scipy.stats import bernoulli, binom, poisson\n",
        "import seaborn as sns"
      ],
      "metadata": {
        "id": "kwamXwZ4-SzG"
      },
      "execution_count": 31,
      "outputs": []
    },
    {
      "cell_type": "code",
      "execution_count": 3,
      "metadata": {
        "colab": {
          "base_uri": "https://localhost:8080/"
        },
        "id": "hybsF3I53VAB",
        "outputId": "fef9c5f9-7df5-44b7-c9fb-d44d27881265"
      },
      "outputs": [
        {
          "output_type": "stream",
          "name": "stdout",
          "text": [
            "0.6\n",
            "0.4\n"
          ]
        }
      ],
      "source": [
        "\"\"\"\n",
        "Calculate:\n",
        "p = probability that the fruit is an apple \n",
        "q = probability that the fruit is an orange\n",
        "\"\"\"\n",
        "\n",
        "# your code here\n",
        "p = 0.6\n",
        "q = 0.4 \n",
        "\n",
        "x = bernoulli(p)\n",
        "\n",
        "def pmf(x,p):\n",
        "    f = p**x*(1-p)**(1-x)\n",
        "    return f\n",
        "\n",
        "print(np.round(x.pmf(1), 3))\n",
        "print(np.round(x.pmf(0), 3))\n"
      ]
    },
    {
      "cell_type": "markdown",
      "metadata": {
        "id": "OiTSOm0l3VAD"
      },
      "source": [
        "Now we take a random sample of 20 fruits from the basket. After each fruit is taken, a new fruit of the same type is replaced in the basket. Therefore, every time we are taking 1 fruit from 100 fruits. \n",
        "\n",
        "1. **What is the probability that the first 5 fruits are all apples?**\n",
        "\n",
        "1. **What is the probability that the first 5 fruits are all apples and the next 15 fruits are all oranges?**\n",
        "\n",
        "You can include the `p` and `q` probabilities you previous calculated in your solution."
      ]
    },
    {
      "cell_type": "code",
      "execution_count": 4,
      "metadata": {
        "colab": {
          "base_uri": "https://localhost:8080/"
        },
        "id": "5FGMzOmB3VAE",
        "outputId": "33f25bec-28d0-4a7d-e5ea-e2b9049db4d8"
      },
      "outputs": [
        {
          "output_type": "stream",
          "name": "stdout",
          "text": [
            "7.775999999999998\n"
          ]
        }
      ],
      "source": [
        "# your code here\n",
        "bernoulli.rvs(p,size=20) \n",
        "\n",
        "px5 = (p**5)*100\n",
        "print(px5)"
      ]
    },
    {
      "cell_type": "markdown",
      "metadata": {
        "id": "x8UKu2wL3VAE"
      },
      "source": [
        "## Binomial Distribution\n",
        "\n",
        "Similar to the above problem, this time again we randomly sample 20 fruits.\n",
        "\n",
        "**What is the probability that this time the sample contains 5 apples and 15 oranges?**\n",
        "\n",
        "Please note that this time the order of the fruits being picked does not matter."
      ]
    },
    {
      "cell_type": "code",
      "execution_count": 18,
      "metadata": {
        "colab": {
          "base_uri": "https://localhost:8080/"
        },
        "id": "ixR1s_0r3VAF",
        "outputId": "bf970ea7-1b25-4c0a-bc70-a2460ffc8e6f"
      },
      "outputs": [
        {
          "output_type": "stream",
          "name": "stdout",
          "text": [
            "<scipy.stats._distn_infrastructure.rv_frozen object at 0x7f5b25cd6850>\n"
          ]
        }
      ],
      "source": [
        "# your code here\n",
        "N = 20\n",
        "y = binom(N, p)\n",
        "print(y)"
      ]
    },
    {
      "cell_type": "code",
      "source": [
        "binom.rvs(N, p, size = 20) "
      ],
      "metadata": {
        "colab": {
          "base_uri": "https://localhost:8080/"
        },
        "id": "MbgWRdnsIX_7",
        "outputId": "e7517b1e-bea0-42a4-fa53-afe21d0511b6"
      },
      "execution_count": 19,
      "outputs": [
        {
          "output_type": "execute_result",
          "data": {
            "text/plain": [
              "array([14, 15, 12, 12, 15, 14, 15, 12,  9, 11, 13,  9,  9, 12, 11, 10, 16,\n",
              "       11, 11, 10])"
            ]
          },
          "metadata": {},
          "execution_count": 19
        }
      ]
    },
    {
      "cell_type": "code",
      "source": [
        "y.pmf(5)"
      ],
      "metadata": {
        "colab": {
          "base_uri": "https://localhost:8080/"
        },
        "id": "DhAlUSgN-En7",
        "outputId": "fe3537e4-7f52-47c0-d243-e2e46f4c5b13"
      },
      "execution_count": 40,
      "outputs": [
        {
          "output_type": "execute_result",
          "data": {
            "text/plain": [
              "0.0012944935222876511"
            ]
          },
          "metadata": {},
          "execution_count": 40
        }
      ]
    },
    {
      "cell_type": "markdown",
      "metadata": {
        "id": "0plQluUW3VAH"
      },
      "source": [
        "In the lesson we also discussed CDF (cumulative distribution function). In the context of the above problem, **what is the probability that less than 5 fruits picked are apples?**\n",
        "\n",
        "Write the formula and calculate the probability below."
      ]
    },
    {
      "cell_type": "code",
      "execution_count": 21,
      "metadata": {
        "colab": {
          "base_uri": "https://localhost:8080/"
        },
        "id": "ad8r6HbO3VAH",
        "outputId": "81545321-a0f0-4d79-d072-1b04dee8ee4e"
      },
      "outputs": [
        {
          "output_type": "execute_result",
          "data": {
            "text/plain": [
              "0.0003170311211686301"
            ]
          },
          "metadata": {},
          "execution_count": 21
        }
      ],
      "source": [
        "# your code here\n",
        "y.cdf(4)"
      ]
    },
    {
      "cell_type": "markdown",
      "metadata": {
        "id": "xuAnpMJa3VAJ"
      },
      "source": [
        "**Plot the PDF (probability distributiom function) for the above binomial distribution.**\n",
        "\n",
        "*Hint: The range of x in a binomial distribution is from `0` to `n`.*"
      ]
    },
    {
      "cell_type": "code",
      "execution_count": 27,
      "metadata": {
        "colab": {
          "base_uri": "https://localhost:8080/",
          "height": 265
        },
        "id": "tCpwTTtc3VAJ",
        "outputId": "4452d369-4118-4381-d1ca-3631af237af1"
      },
      "outputs": [
        {
          "output_type": "display_data",
          "data": {
            "text/plain": [
              "<Figure size 432x288 with 1 Axes>"
            ],
            "image/png": "[encoded data removed]"
          },
          "metadata": {
            "needs_background": "light"
          }
        }
      ],
      "source": [
        "# your code here\n",
        "numero_manzanas = np.arange(1,11)\n",
        "\n",
        "probabilidades = y.pmf(numero_manzanas)\n",
        "\n",
        "plt.plot(numero_manzanas, y.pmf(numero_manzanas), 'o')\n",
        "plt.vlines(numero_manzanas, 0, probabilidades, colors='black', lw=5, alpha=0.5);\n",
        "\n",
        "# Please label the axes and give a title to the plot \n",
        "\n"
      ]
    },
    {
      "cell_type": "markdown",
      "metadata": {
        "id": "GvU2nyKi3VAK"
      },
      "source": [
        "## Poisson Distribution\n",
        "\n",
        "In this challenge you are required to use the Math library in python to solve the problems.\n",
        "\n",
        "In the UEFA champions league tournament, the average number of goals scored in a match is 2.3. \n",
        "\n",
        "**What is the probability that the number of goals scored in a match is 5?**\n",
        "\n",
        "*Hint: Use the exp() in the math library*\n",
        "\n",
        "And to calculate the factorial, you can use the following code:\n",
        "\n",
        "```python\n",
        "import math\n",
        "math.factorial(n) # n is the number you want to find the factorial of\n",
        "```"
      ]
    },
    {
      "cell_type": "code",
      "execution_count": 41,
      "metadata": {
        "colab": {
          "base_uri": "https://localhost:8080/"
        },
        "id": "4n55B9dG3VAL",
        "outputId": "7271a416-aad6-4eec-964d-f61c84333634"
      },
      "outputs": [
        {
          "output_type": "execute_result",
          "data": {
            "text/plain": [
              "0.053775025581946814"
            ]
          },
          "metadata": {},
          "execution_count": 41
        }
      ],
      "source": [
        "# your code here \n",
        "import math\n",
        "\n",
        "goles = 2.3\n",
        "\n",
        "cl = poisson(mu=goles)\n",
        "\n",
        "cl.pmf(5)"
      ]
    },
    {
      "cell_type": "markdown",
      "metadata": {
        "id": "KertGpLz3VAL"
      },
      "source": [
        "**Draw a poisson probability distribution plot for the number of goals to be between 0 to 10.**"
      ]
    },
    {
      "cell_type": "code",
      "execution_count": 39,
      "metadata": {
        "colab": {
          "base_uri": "https://localhost:8080/",
          "height": 265
        },
        "id": "zCWR-0Qq3VAM",
        "outputId": "d8ec4a89-552e-4373-aba4-f21e2a5ebb17"
      },
      "outputs": [
        {
          "output_type": "display_data",
          "data": {
            "text/plain": [
              "<Figure size 432x288 with 1 Axes>"
            ],
            "image/png": "[encoded data removed]"
          },
          "metadata": {
            "needs_background": "light"
          }
        }
      ],
      "source": [
        "# your code here\n",
        "golitos = np.arange(0,11)\n",
        "\n",
        "probab = cl.pmf(golitos)\n",
        "\n",
        "plt.plot(golitos, cl.pmf(golitos), 'bo')\n",
        "plt.vlines(golitos, 0, probab, colors='b', lw=5, alpha=0.5);\n",
        "# Please label the axes and give a title to the plot "
      ]
    }
  ],
  "metadata": {
    "kernelspec": {
      "display_name": "Python 3",
      "language": "python",
      "name": "python3"
    },
    "language_info": {
      "codemirror_mode": {
        "name": "ipython",
        "version": 3
      },
      "file_extension": ".py",
      "mimetype": "text/x-python",
      "name": "python",
      "nbconvert_exporter": "python",
      "pygments_lexer": "ipython3",
      "version": "3.7.3"
    },
    "colab": {
      "name": "main.ipynb",
      "provenance": []
    }
  },
  "nbformat": 4,
  "nbformat_minor": 0
}